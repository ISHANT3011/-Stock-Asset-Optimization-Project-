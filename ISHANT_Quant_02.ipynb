{
  "nbformat": 4,
  "nbformat_minor": 0,
  "metadata": {
    "colab": {
      "name": "ISHANT_Quant_02.ipynb",
      "provenance": [],
      "collapsed_sections": []
    },
    "kernelspec": {
      "name": "python3",
      "display_name": "Python 3"
    }
  },
  "cells": [
    {
      "cell_type": "markdown",
      "metadata": {
        "id": "mZPmZwy7uy-w"
      },
      "source": [
        "Question 1.) How did you choose the stocks?\n",
        "- Fristly I see which kinda stock i wanna invest in, like is it a holding company, or a production company, etc. Then read it's annual report and observe it's in investment plaming, recent investments, recent products launch, main product, etc. Then If it goes well, them to see it's parameters such as R.O.E, Debt/eq., cash cycle,R.O.C.E, etc. and also these parameters depends on the which type of company in am going to invest like if it's a banking company then\n",
        "NIM%, ROA%,C.A.S.A. etc. are the good parameters to look onto. I think that's it.\n",
        "\n",
        "Question 2.)What is the impact of increasing the number of stocks in the portfolio?\n",
        "- In our case if we increase the number of quality stocks in our portfolio then the chances of lose decrease as we have only 5 stocks in prootfolio but ideally it should be more then 10 and less then 45.  \n",
        "\n",
        "Question 3.) Why are calculating the weights by optimization and not giving equal weightage to every stock?\n",
        "- we use optimization to reduce to risk of lose, we give high weight to those stock in which we beleive growth, but by this one may question that why don't you just have 1 stock in which you believe because there's nothing for sure in stock market so, to reduce the risk we invest in multiple stocks using optimization.\n",
        "\n",
        "Question 4.) Which optimization techniques are used by Mutual Funds currently?\n",
        "- we have many techniques that we can use but currently it's Monte Carlo Optimization. \n",
        "\n",
        "\n",
        "Question 5.) Which parameters are you using to check the accuracy of your model?\n",
        "- Correlation and risk evaluation\n",
        "\n"
      ]
    },
    {
      "cell_type": "code",
      "metadata": {
        "id": "i5vZjc0BHVVg",
        "colab": {
          "base_uri": "https://localhost:8080/",
          "height": 255
        },
        "outputId": "02b5271d-e5f0-4129-8007-b82e623bac04"
      },
      "source": [
        "import pandas as pd\n",
        "import numpy as np\n",
        "import matplotlib.pyplot as plt\n",
        "import pandas_datareader.data as web\n",
        "#from pandas_datareader import data as pdr\n",
        "import fix_yahoo_finance\n",
        "import datetime\n",
        "import yfinance as yf\n",
        "\n",
        "start = datetime.datetime(2014,1,1)\n",
        "end = datetime.datetime(2018,5,31)\n",
        "\n",
        "tick = ['TSLA', 'MSFT', 'T', 'LNVGY', 'AAPL']\n",
        "price_data = yf.download(tick,start,end)['Adj Close']\n",
        "# price_data = web.get_data_yahoo(tick,\n",
        "#                            start,\n",
        "#                            end )['Adj Close']\n",
        "price_data.head()"
      ],
      "execution_count": 35,
      "outputs": [
        {
          "output_type": "stream",
          "text": [
            "[*********************100%***********************]  5 of 5 completed\n"
          ],
          "name": "stdout"
        },
        {
          "output_type": "execute_result",
          "data": {
            "text/html": [
              "<div>\n",
              "<style scoped>\n",
              "    .dataframe tbody tr th:only-of-type {\n",
              "        vertical-align: middle;\n",
              "    }\n",
              "\n",
              "    .dataframe tbody tr th {\n",
              "        vertical-align: top;\n",
              "    }\n",
              "\n",
              "    .dataframe thead th {\n",
              "        text-align: right;\n",
              "    }\n",
              "</style>\n",
              "<table border=\"1\" class=\"dataframe\">\n",
              "  <thead>\n",
              "    <tr style=\"text-align: right;\">\n",
              "      <th></th>\n",
              "      <th>AAPL</th>\n",
              "      <th>LNVGY</th>\n",
              "      <th>MSFT</th>\n",
              "      <th>T</th>\n",
              "      <th>TSLA</th>\n",
              "    </tr>\n",
              "    <tr>\n",
              "      <th>Date</th>\n",
              "      <th></th>\n",
              "      <th></th>\n",
              "      <th></th>\n",
              "      <th></th>\n",
              "      <th></th>\n",
              "    </tr>\n",
              "  </thead>\n",
              "  <tbody>\n",
              "    <tr>\n",
              "      <th>2014-01-02</th>\n",
              "      <td>17.542171</td>\n",
              "      <td>17.127991</td>\n",
              "      <td>31.983477</td>\n",
              "      <td>22.425310</td>\n",
              "      <td>30.020000</td>\n",
              "    </tr>\n",
              "    <tr>\n",
              "      <th>2014-01-03</th>\n",
              "      <td>17.156841</td>\n",
              "      <td>16.965940</td>\n",
              "      <td>31.768301</td>\n",
              "      <td>22.329060</td>\n",
              "      <td>29.912001</td>\n",
              "    </tr>\n",
              "    <tr>\n",
              "      <th>2014-01-06</th>\n",
              "      <td>17.250401</td>\n",
              "      <td>16.627748</td>\n",
              "      <td>31.096956</td>\n",
              "      <td>22.431723</td>\n",
              "      <td>29.400000</td>\n",
              "    </tr>\n",
              "    <tr>\n",
              "      <th>2014-01-07</th>\n",
              "      <td>17.127035</td>\n",
              "      <td>16.360012</td>\n",
              "      <td>31.337952</td>\n",
              "      <td>22.425310</td>\n",
              "      <td>29.872000</td>\n",
              "    </tr>\n",
              "    <tr>\n",
              "      <th>2014-01-08</th>\n",
              "      <td>17.235500</td>\n",
              "      <td>16.310696</td>\n",
              "      <td>30.778502</td>\n",
              "      <td>22.262766</td>\n",
              "      <td>30.256001</td>\n",
              "    </tr>\n",
              "  </tbody>\n",
              "</table>\n",
              "</div>"
            ],
            "text/plain": [
              "                 AAPL      LNVGY       MSFT          T       TSLA\n",
              "Date                                                             \n",
              "2014-01-02  17.542171  17.127991  31.983477  22.425310  30.020000\n",
              "2014-01-03  17.156841  16.965940  31.768301  22.329060  29.912001\n",
              "2014-01-06  17.250401  16.627748  31.096956  22.431723  29.400000\n",
              "2014-01-07  17.127035  16.360012  31.337952  22.425310  29.872000\n",
              "2014-01-08  17.235500  16.310696  30.778502  22.262766  30.256001"
            ]
          },
          "metadata": {
            "tags": []
          },
          "execution_count": 35
        }
      ]
    },
    {
      "cell_type": "code",
      "metadata": {
        "id": "P4S1jeCWH00g"
      },
      "source": [
        "log_ret = np.log(price_data/price_data.shift(1))"
      ],
      "execution_count": 36,
      "outputs": []
    },
    {
      "cell_type": "code",
      "metadata": {
        "id": "aosn1-BYH447",
        "colab": {
          "base_uri": "https://localhost:8080/"
        },
        "outputId": "5fc1d440-ad9a-4634-84d7-2b69917db188"
      },
      "source": [
        "cov_mat = log_ret.cov() * 252\n",
        "print(cov_mat)\n"
      ],
      "execution_count": 37,
      "outputs": [
        {
          "output_type": "stream",
          "text": [
            "           AAPL     LNVGY      MSFT         T      TSLA\n",
            "AAPL   0.052362  0.012896  0.024184  0.008887  0.026175\n",
            "LNVGY  0.012896  0.104738  0.016401  0.007803  0.021257\n",
            "MSFT   0.024184  0.016401  0.049911  0.011069  0.028169\n",
            "T      0.008887  0.007803  0.011069  0.026060  0.010788\n",
            "TSLA   0.026175  0.021257  0.028169  0.010788  0.168267\n"
          ],
          "name": "stdout"
        }
      ]
    },
    {
      "cell_type": "code",
      "metadata": {
        "id": "nZCXicVyIC_9"
      },
      "source": [
        "# Simulating 5000 portfolios\n",
        "num_port = 5000\n",
        "# Creating an empty array to store portfolio weights\n",
        "all_wts = np.zeros((num_port, len(price_data.columns)))\n",
        "# Creating an empty array to store portfolio returns\n",
        "port_returns = np.zeros((num_port))\n",
        "# Creating an empty array to store portfolio risks\n",
        "port_risk = np.zeros((num_port))\n",
        "# Creating an empty array to store portfolio sharpe ratio\n",
        "sharpe_ratio = np.zeros((num_port))"
      ],
      "execution_count": 38,
      "outputs": []
    },
    {
      "cell_type": "code",
      "metadata": {
        "id": "WiZ4KZYeIHy_"
      },
      "source": [
        "for i in range(num_port):\n",
        "  wts = np.random.uniform(size = len(price_data.columns))\n",
        "  wts = wts/np.sum(wts)\n",
        "  \n",
        "  # saving weights in the array\n",
        "  \n",
        "  all_wts[i,:] = wts\n",
        "  \n",
        "  # Portfolio Returns\n",
        "  \n",
        "  port_ret = np.sum(log_ret.mean() * wts)\n",
        "  port_ret = (port_ret + 1) ** 252 - 1\n",
        "  \n",
        "  # Saving Portfolio returns\n",
        "  \n",
        "  port_returns[i] = port_ret\n",
        "  \n",
        "  \n",
        "  # Portfolio Risk\n",
        "  \n",
        "  port_sd = np.sqrt(np.dot(wts.T, np.dot(cov_mat, wts)))\n",
        "  \n",
        "  port_risk[i] = port_sd\n",
        "  \n",
        "  # Portfolio Sharpe Ratio\n",
        "  # Assuming 0% Risk Free Rate\n",
        "  \n",
        "  sr = port_ret / port_sd\n",
        "  sharpe_ratio[i] = sr"
      ],
      "execution_count": 39,
      "outputs": []
    },
    {
      "cell_type": "code",
      "metadata": {
        "id": "0V8lbK88IK_f",
        "colab": {
          "base_uri": "https://localhost:8080/"
        },
        "outputId": "31bc2aaf-4b34-459d-e9b2-2ea9962744e1"
      },
      "source": [
        "names = price_data.columns\n",
        "min_var = all_wts[port_risk.argmin()]\n",
        "print(min_var)"
      ],
      "execution_count": 40,
      "outputs": [
        {
          "output_type": "stream",
          "text": [
            "[0.16810145 0.11650946 0.04157486 0.67186957 0.00194466]\n"
          ],
          "name": "stdout"
        }
      ]
    },
    {
      "cell_type": "code",
      "metadata": {
        "id": "55zxrnhuIOTn",
        "colab": {
          "base_uri": "https://localhost:8080/"
        },
        "outputId": "b3bac248-ab1d-44e2-8d8c-5be391b7c716"
      },
      "source": [
        "max_sr = all_wts[sharpe_ratio.argmax()]\n",
        "print(max_sr)"
      ],
      "execution_count": 41,
      "outputs": [
        {
          "output_type": "stream",
          "text": [
            "[0.47312071 0.02493132 0.39540735 0.04673301 0.0598076 ]\n"
          ],
          "name": "stdout"
        }
      ]
    },
    {
      "cell_type": "code",
      "metadata": {
        "id": "myLk__jCIRul",
        "colab": {
          "base_uri": "https://localhost:8080/"
        },
        "outputId": "bd7a35f1-bb45-4392-fd43-1731c63a4acf"
      },
      "source": [
        "print(sharpe_ratio.max())\n"
      ],
      "execution_count": 42,
      "outputs": [
        {
          "output_type": "stream",
          "text": [
            "1.2515251558006937\n"
          ],
          "name": "stdout"
        }
      ]
    },
    {
      "cell_type": "code",
      "metadata": {
        "id": "3ftRIAbGITOr",
        "colab": {
          "base_uri": "https://localhost:8080/"
        },
        "outputId": "e5ba42ca-4632-4a48-ca94-be071a793447"
      },
      "source": [
        "print(port_risk.min())"
      ],
      "execution_count": 43,
      "outputs": [
        {
          "output_type": "stream",
          "text": [
            "0.14021829021086885\n"
          ],
          "name": "stdout"
        }
      ]
    },
    {
      "cell_type": "code",
      "metadata": {
        "id": "Wrxuo5xfITWB",
        "colab": {
          "base_uri": "https://localhost:8080/",
          "height": 331
        },
        "outputId": "91cdb5d2-5f14-4548-ff32-7d872ca6defc"
      },
      "source": [
        "min_var = pd.Series(min_var, index=names)\n",
        "min_var = min_var.sort_values()\n",
        "fig = plt.figure()\n",
        "ax1 = fig.add_axes([0.1,0.1,0.8,0.8])\n",
        "ax1.set_xlabel('Asset')\n",
        "ax1.set_ylabel(\"Weights\")\n",
        "ax1.set_title(\"Minimum Variance Portfolio weights\")\n",
        "min_var.plot(kind = 'bar')\n",
        "plt.show();"
      ],
      "execution_count": 44,
      "outputs": [
        {
          "output_type": "display_data",
          "data": {
            "image/png": "[encoded data removed]",
            "text/plain": [
              "<Figure size 432x288 with 1 Axes>"
            ]
          },
          "metadata": {
            "tags": [],
            "needs_background": "light"
          }
        }
      ]
    },
    {
      "cell_type": "code",
      "metadata": {
        "id": "m0-4Fo15ITas",
        "colab": {
          "base_uri": "https://localhost:8080/",
          "height": 331
        },
        "outputId": "bd401ba9-75bf-4243-ae22-715acd108ccc"
      },
      "source": [
        "max_sr = pd.Series(max_sr, index=names)\n",
        "max_sr = max_sr.sort_values()\n",
        "fig = plt.figure()\n",
        "ax1 = fig.add_axes([0.1,0.1,0.8,0.8])\n",
        "ax1.set_xlabel('Asset')\n",
        "ax1.set_ylabel(\"Weights\")\n",
        "ax1.set_title(\"Tangency Portfolio weights\")\n",
        "max_sr.plot(kind = 'bar')\n",
        "plt.show();"
      ],
      "execution_count": 45,
      "outputs": [
        {
          "output_type": "display_data",
          "data": {
            "image/png": "[encoded data removed]",
            "text/plain": [
              "<Figure size 432x288 with 1 Axes>"
            ]
          },
          "metadata": {
            "tags": [],
            "needs_background": "light"
          }
        }
      ]
    },
    {
      "cell_type": "code",
      "metadata": {
        "id": "Q2nT2fNQITiX",
        "colab": {
          "base_uri": "https://localhost:8080/",
          "height": 308
        },
        "outputId": "debd309c-b19e-442c-fd6e-97c52190cfa7"
      },
      "source": [
        "fig = plt.figure()\n",
        "ax1 = fig.add_axes([0.1,0.1,0.8,0.8])\n",
        "ax1.set_xlabel('Risk')\n",
        "ax1.set_ylabel(\"Returns\")\n",
        "ax1.set_title(\"Portfolio optimization and Efficient Frontier\")\n",
        "plt.scatter(port_risk, port_returns)\n",
        "plt.show();\n"
      ],
      "execution_count": 46,
      "outputs": [
        {
          "output_type": "display_data",
          "data": {
            "image/png": "[encoded data removed]",
            "text/plain": [
              "<Figure size 432x288 with 1 Axes>"
            ]
          },
          "metadata": {
            "tags": [],
            "needs_background": "light"
          }
        }
      ]
    },
    {
      "cell_type": "code",
      "metadata": {
        "id": "cjKdT4KWITmw"
      },
      "source": [
        ""
      ],
      "execution_count": null,
      "outputs": []
    },
    {
      "cell_type": "code",
      "metadata": {
        "id": "NqN_L4fVITfp"
      },
      "source": [
        ""
      ],
      "execution_count": null,
      "outputs": []
    }
  ]
}