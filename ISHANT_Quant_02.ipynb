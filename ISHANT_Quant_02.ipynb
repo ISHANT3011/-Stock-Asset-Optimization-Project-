{
  "nbformat": 4,
  "nbformat_minor": 0,
  "metadata": {
    "colab": {
      "name": "ISHANT_Quant_02.ipynb",
      "provenance": [],
      "collapsed_sections": []
    },
    "kernelspec": {
      "name": "python3",
      "display_name": "Python 3"
    }
  },
  "cells": [
    {
      "cell_type": "markdown",
      "metadata": {
        "id": "mZPmZwy7uy-w"
      },
      "source": [
        "Question 1.) How did you choose the stocks?\n",
        "- Fristly I see which kinda stock i wanna invest in, like is it a holding company, or a production company, etc. Then read it's annual report and observe it's in investment plaming, recent investments, recent products launch, main product, etc. Then If it goes well, them to see it's parameters such as R.O.E, Debt/eq., cash cycle,R.O.C.E, etc. and also these parameters depends on the which type of company in am going to invest like if it's a banking company then\n",
        "NIM%, ROA%,C.A.S.A. etc. are the good parameters to look onto. I think that's it.\n",
        "\n",
        "Question 2.)What is the impact of increasing the number of stocks in the portfolio?\n",
        "- In our case if we increase the number of quality stocks in our portfolio then the chances of lose decrease as we have only 5 stocks in prootfolio but ideally it should be more then 10 and less then 45.  \n",
        "\n",
        "Question 3.) Why are calculating the weights by optimization and not giving equal weightage to every stock?\n",
        "- we use optimization to reduce to risk of lose, we give high weight to those stock in which we beleive growth, but by this one may question that why don't you just have 1 stock in which you believe because there's nothing for sure in stock market so, to reduce the risk we invest in multiple stocks using optimization.\n",
        "\n",
        "Question 4.) Which optimization techniques are used by Mutual Funds currently?\n",
        "- we have many techniques that we can use but currently it's Monte Carlo Optimization. \n",
        "\n",
        "\n",
        "Question 5.) Which parameters are you using to check the accuracy of your model?\n",
        "- Correlation and risk evaluation\n",
        "\n"
      ]
    },
    {
      "cell_type": "code",
      "metadata": {
        "id": "i5vZjc0BHVVg"
      },
      "source": [
        "import pandas as pd\n",
        "import numpy as np\n",
        "import matplotlib.pyplot as plt\n",
        "import pandas_datareader as web\n",
        "tick = ['TSLA', 'MSFT', 'SNE', 'LNVGY', 'AAPL']\n",
        "price_data = web.get_data_yahoo(tick,\n",
        "                           start = '2014-01-01',\n",
        "                           end = '2018-05-31')['Adj Close']"
      ],
      "execution_count": null,
      "outputs": []
    },
    {
      "cell_type": "code",
      "metadata": {
        "id": "P4S1jeCWH00g"
      },
      "source": [
        "log_ret = np.log(price_data/price_data.shift(1))"
      ],
      "execution_count": null,
      "outputs": []
    },
    {
      "cell_type": "code",
      "metadata": {
        "id": "aosn1-BYH447",
        "colab": {
          "base_uri": "https://localhost:8080/",
          "height": 134
        },
        "outputId": "38e3de8b-9955-48e0-c16a-63831209913f"
      },
      "source": [
        "cov_mat = log_ret.cov() * 252\n",
        "print(cov_mat)\n"
      ],
      "execution_count": null,
      "outputs": [
        {
          "output_type": "stream",
          "text": [
            "Symbols      TSLA      MSFT       SNE     LNVGY      AAPL\n",
            "Symbols                                                  \n",
            "TSLA     0.168256  0.028156  0.028231  0.021502  0.026175\n",
            "MSFT     0.028156  0.049867  0.022846  0.016335  0.024165\n",
            "SNE      0.028231  0.022846  0.093506  0.016922  0.022071\n",
            "LNVGY    0.021502  0.016335  0.016922  0.104668  0.012844\n",
            "AAPL     0.026175  0.024165  0.022071  0.012844  0.052319\n"
          ],
          "name": "stdout"
        }
      ]
    },
    {
      "cell_type": "code",
      "metadata": {
        "id": "nZCXicVyIC_9"
      },
      "source": [
        "# Simulating 5000 portfolios\n",
        "num_port = 5000\n",
        "# Creating an empty array to store portfolio weights\n",
        "all_wts = np.zeros((num_port, len(price_data.columns)))\n",
        "# Creating an empty array to store portfolio returns\n",
        "port_returns = np.zeros((num_port))\n",
        "# Creating an empty array to store portfolio risks\n",
        "port_risk = np.zeros((num_port))\n",
        "# Creating an empty array to store portfolio sharpe ratio\n",
        "sharpe_ratio = np.zeros((num_port))"
      ],
      "execution_count": null,
      "outputs": []
    },
    {
      "cell_type": "code",
      "metadata": {
        "id": "WiZ4KZYeIHy_"
      },
      "source": [
        "for i in range(num_port):\n",
        "  wts = np.random.uniform(size = len(price_data.columns))\n",
        "  wts = wts/np.sum(wts)\n",
        "  \n",
        "  # saving weights in the array\n",
        "  \n",
        "  all_wts[i,:] = wts\n",
        "  \n",
        "  # Portfolio Returns\n",
        "  \n",
        "  port_ret = np.sum(log_ret.mean() * wts)\n",
        "  port_ret = (port_ret + 1) ** 252 - 1\n",
        "  \n",
        "  # Saving Portfolio returns\n",
        "  \n",
        "  port_returns[i] = port_ret\n",
        "  \n",
        "  \n",
        "  # Portfolio Risk\n",
        "  \n",
        "  port_sd = np.sqrt(np.dot(wts.T, np.dot(cov_mat, wts)))\n",
        "  \n",
        "  port_risk[i] = port_sd\n",
        "  \n",
        "  # Portfolio Sharpe Ratio\n",
        "  # Assuming 0% Risk Free Rate\n",
        "  \n",
        "  sr = port_ret / port_sd\n",
        "  sharpe_ratio[i] = sr"
      ],
      "execution_count": null,
      "outputs": []
    },
    {
      "cell_type": "code",
      "metadata": {
        "id": "0V8lbK88IK_f",
        "colab": {
          "base_uri": "https://localhost:8080/",
          "height": 34
        },
        "outputId": "4aeb9e69-8ce5-4f21-9b80-6ac77b63987b"
      },
      "source": [
        "names = price_data.columns\n",
        "min_var = all_wts[port_risk.argmin()]\n",
        "print(min_var)"
      ],
      "execution_count": null,
      "outputs": [
        {
          "output_type": "stream",
          "text": [
            "[0.02465875 0.31071006 0.12917678 0.19444026 0.34101415]\n"
          ],
          "name": "stdout"
        }
      ]
    },
    {
      "cell_type": "code",
      "metadata": {
        "id": "55zxrnhuIOTn",
        "colab": {
          "base_uri": "https://localhost:8080/",
          "height": 50
        },
        "outputId": "61e3e4a5-5d96-4bba-a586-ace32b23b6c6"
      },
      "source": [
        "max_sr = all_wts[sharpe_ratio.argmax()]\n",
        "print(max_sr)"
      ],
      "execution_count": null,
      "outputs": [
        {
          "output_type": "stream",
          "text": [
            "[1.91599881e-02 5.50954372e-01 7.52482709e-02 2.35221928e-04\n",
            " 3.54402147e-01]\n"
          ],
          "name": "stdout"
        }
      ]
    },
    {
      "cell_type": "code",
      "metadata": {
        "id": "myLk__jCIRul",
        "colab": {
          "base_uri": "https://localhost:8080/",
          "height": 34
        },
        "outputId": "ad89e23e-b5fe-4d35-d3d7-becf9138be0b"
      },
      "source": [
        "print(sharpe_ratio.max())\n"
      ],
      "execution_count": null,
      "outputs": [
        {
          "output_type": "stream",
          "text": [
            "1.3836358816938996\n"
          ],
          "name": "stdout"
        }
      ]
    },
    {
      "cell_type": "code",
      "metadata": {
        "id": "3ftRIAbGITOr",
        "colab": {
          "base_uri": "https://localhost:8080/",
          "height": 34
        },
        "outputId": "fe2a7788-a4ad-423c-91dd-dcf3c0f97152"
      },
      "source": [
        "print(port_risk.min())"
      ],
      "execution_count": null,
      "outputs": [
        {
          "output_type": "stream",
          "text": [
            "0.17664140804614994\n"
          ],
          "name": "stdout"
        }
      ]
    },
    {
      "cell_type": "code",
      "metadata": {
        "id": "Wrxuo5xfITWB",
        "colab": {
          "base_uri": "https://localhost:8080/",
          "height": 331
        },
        "outputId": "bafb083b-22ec-4c93-9279-6f2c19cc4913"
      },
      "source": [
        "min_var = pd.Series(min_var, index=names)\n",
        "min_var = min_var.sort_values()\n",
        "fig = plt.figure()\n",
        "ax1 = fig.add_axes([0.1,0.1,0.8,0.8])\n",
        "ax1.set_xlabel('Asset')\n",
        "ax1.set_ylabel(\"Weights\")\n",
        "ax1.set_title(\"Minimum Variance Portfolio weights\")\n",
        "min_var.plot(kind = 'bar')\n",
        "plt.show();"
      ],
      "execution_count": null,
      "outputs": [
        {
          "output_type": "display_data",
          "data": {
            "image/png": "[encoded data removed]",
            "text/plain": [
              "<Figure size 432x288 with 1 Axes>"
            ]
          },
          "metadata": {
            "tags": [],
            "needs_background": "light"
          }
        }
      ]
    },
    {
      "cell_type": "code",
      "metadata": {
        "id": "m0-4Fo15ITas",
        "colab": {
          "base_uri": "https://localhost:8080/",
          "height": 331
        },
        "outputId": "919132ba-0d9d-4aac-fe98-9e1730f3568c"
      },
      "source": [
        "max_sr = pd.Series(max_sr, index=names)\n",
        "max_sr = max_sr.sort_values()\n",
        "fig = plt.figure()\n",
        "ax1 = fig.add_axes([0.1,0.1,0.8,0.8])\n",
        "ax1.set_xlabel('Asset')\n",
        "ax1.set_ylabel(\"Weights\")\n",
        "ax1.set_title(\"Tangency Portfolio weights\")\n",
        "max_sr.plot(kind = 'bar')\n",
        "plt.show();"
      ],
      "execution_count": null,
      "outputs": [
        {
          "output_type": "display_data",
          "data": {
            "image/png": "[encoded data removed]",
            "text/plain": [
              "<Figure size 432x288 with 1 Axes>"
            ]
          },
          "metadata": {
            "tags": [],
            "needs_background": "light"
          }
        }
      ]
    },
    {
      "cell_type": "code",
      "metadata": {
        "id": "Q2nT2fNQITiX",
        "colab": {
          "base_uri": "https://localhost:8080/",
          "height": 308
        },
        "outputId": "d6fa04d1-5e71-4380-d5d7-bce05d249454"
      },
      "source": [
        "fig = plt.figure()\n",
        "ax1 = fig.add_axes([0.1,0.1,0.8,0.8])\n",
        "ax1.set_xlabel('Risk')\n",
        "ax1.set_ylabel(\"Returns\")\n",
        "ax1.set_title(\"Portfolio optimization and Efficient Frontier\")\n",
        "plt.scatter(port_risk, port_returns)\n",
        "plt.show();\n"
      ],
      "execution_count": null,
      "outputs": [
        {
          "output_type": "display_data",
          "data": {
            "image/png": "[encoded data removed]",
            "text/plain": [
              "<Figure size 432x288 with 1 Axes>"
            ]
          },
          "metadata": {
            "tags": [],
            "needs_background": "light"
          }
        }
      ]
    },
    {
      "cell_type": "code",
      "metadata": {
        "id": "cjKdT4KWITmw"
      },
      "source": [
        ""
      ],
      "execution_count": null,
      "outputs": []
    },
    {
      "cell_type": "code",
      "metadata": {
        "id": "NqN_L4fVITfp"
      },
      "source": [
        ""
      ],
      "execution_count": null,
      "outputs": []
    }
  ]
}